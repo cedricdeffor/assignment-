{
 "cells": [
  {
   "cell_type": "markdown",
   "id": "f46b6f54-e178-4975-a325-58b2b28de08f",
   "metadata": {},
   "source": [
    "# Data Science Tools and Ecosystem"
   ]
  },
  {
   "cell_type": "markdown",
   "id": "fb432e96-9165-4b64-b4de-d85cc9aabb8c",
   "metadata": {},
   "source": [
    "In this notebook,Data Science Tools and Ecosystem are summarised "
   ]
  },
  {
   "cell_type": "markdown",
   "id": "ae2a6b6d-3b46-42a3-ad47-4cf84cbfa16a",
   "metadata": {},
   "source": [
    "**Objectives** \n",
    "* Data Scientist Tools\n",
    "* Data Scientist Libraries\n",
    "* Evaluating Arithmetic expressions in python"
   ]
  },
  {
   "cell_type": "markdown",
   "id": "bfca2a07-bdc5-4385-8c8c-56a065ed83ad",
   "metadata": {},
   "source": [
    "Some of the popular languages Data Scientist us are :\n",
    "1. Python\n",
    "2. Java \n",
    "3. C++"
   ]
  },
  {
   "cell_type": "markdown",
   "id": "05272881-9d39-4a92-86dc-3fb6f61549d6",
   "metadata": {},
   "source": [
    "Some of the commonly used libraries used by Data Scientist include :\n",
    "1. Panda \n",
    "2. Numpy \n",
    "3. Matplotlib "
   ]
  },
  {
   "cell_type": "markdown",
   "id": "6eea086d-9f16-48d0-addb-bb7cffd82d3d",
   "metadata": {},
   "source": [
    "| Data Science Tools |\n",
    "----------------------\n",
    "|IBM Watson Studio|\n",
    "|R Studio         |\n",
    "|Jupyter Labs     |"
   ]
  },
  {
   "cell_type": "markdown",
   "id": "e35c4c13-2b6f-4928-a9ab-e081cfcf6507",
   "metadata": {},
   "source": [
    "### Below are a few examples of evaluating arithmetric expressions in python \n"
   ]
  },
  {
   "cell_type": "code",
   "execution_count": 13,
   "id": "2baaf70f-5a6f-4890-a02d-f04ba5013c34",
   "metadata": {},
   "outputs": [
    {
     "data": {
      "text/plain": [
       "17"
      ]
     },
     "execution_count": 13,
     "metadata": {},
     "output_type": "execute_result"
    }
   ],
   "source": [
    "#this a simple arithmetic expression to multiply then add integers \n",
    "(3*4)+5"
   ]
  },
  {
   "cell_type": "code",
   "execution_count": 19,
   "id": "a09fe4f7-ff78-4372-9b3f-01e12df3af3b",
   "metadata": {},
   "outputs": [
    {
     "data": {
      "text/plain": [
       "3.3333333333333335"
      ]
     },
     "execution_count": 19,
     "metadata": {},
     "output_type": "execute_result"
    }
   ],
   "source": [
    "#this will convert 200 minutes into hours by dividing by 60 \n",
    "\n",
    "200/60"
   ]
  },
  {
   "cell_type": "markdown",
   "id": "6f53193f-7940-4541-9424-8b863edcc6f6",
   "metadata": {},
   "source": [
    "## AUTHOR ##\n",
    "Cedric Deffor"
   ]
  },
  {
   "cell_type": "code",
   "execution_count": null,
   "id": "7f8678c3-e277-4a0f-8c6b-c2f9670f5f88",
   "metadata": {},
   "outputs": [],
   "source": []
  }
 ],
 "metadata": {
  "kernelspec": {
   "display_name": "anaconda-2024.02-py310",
   "language": "python",
   "name": "conda-env-anaconda-2024.02-py310-py"
  },
  "language_info": {
   "codemirror_mode": {
    "name": "ipython",
    "version": 3
   },
   "file_extension": ".py",
   "mimetype": "text/x-python",
   "name": "python",
   "nbconvert_exporter": "python",
   "pygments_lexer": "ipython3",
   "version": "3.10.14"
  }
 },
 "nbformat": 4,
 "nbformat_minor": 5
}
